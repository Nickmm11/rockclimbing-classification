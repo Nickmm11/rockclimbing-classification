{
 "cells": [
  {
   "cell_type": "code",
   "id": "initial_id",
   "metadata": {
    "collapsed": true,
    "jupyter": {
     "is_executing": true
    },
    "ExecuteTime": {
     "start_time": "2024-12-05T04:32:07.635688Z"
    }
   },
   "source": [
    "# -- IMPORTS START --\n",
    "import pandas as pd\n",
    "import glob\n",
    "import re\n",
    "import os\n",
    "import sys\n",
    "import pickle\n",
    "import datetime\n",
    "import numpy as np\n",
    "import matplotlib.pyplot as plt\n",
    "\n",
    "from datetime import datetime\n",
    "from sklearn import tree, metrics\n",
    "from sklearn.model_selection import train_test_split, cross_val_score\n",
    "from sklearn.metrics import accuracy_score, confusion_matrix, classification_report, ConfusionMatrixDisplay\n",
    "from scipy.signal import butter, filtfilt, find_peaks\n",
    "from sklearn.tree import DecisionTreeClassifier,export_graphviz\n",
    "from sklearn.model_selection import train_test_split\n",
    "# -- IMPORTS END --\n",
    "\n",
    "# enable zooming into graphs\n",
    "%matplotlib notebook\n",
    "plt.rcParams['figure.figsize'] = [9, 6] # width, height in inches"
   ],
   "outputs": [],
   "execution_count": null
  },
  {
   "metadata": {},
   "cell_type": "markdown",
   "source": "Calculates magnitude of acceleration and rotational rate",
   "id": "4bd084a5e3386800"
  },
  {
   "metadata": {},
   "cell_type": "code",
   "outputs": [],
   "execution_count": null,
   "source": [
    "def calc_magnitude(data):\n",
    "\n",
    "    # Calculate magnitude\n",
    "    data['accel_mag'] = np.sqrt(data['accelerationX']**2 + data['accelerationY']**2 + data['accelerationZ']**2) # absolute accel magnitude\n",
    "    data['accel_mag'] = data['accel_mag'] - data['accel_mag'].mean() # detrend: \"remove gravity\"\n",
    "\n",
    "    return data"
   ],
   "id": "bd914ad38a995048"
  },
  {
   "metadata": {},
   "cell_type": "code",
   "outputs": [],
   "execution_count": null,
   "source": [
    "def rotation_magnitude(data):\n",
    "    \n",
    "    #Calculate rotation magnitude\n",
    "    data['rotation_mag'] = np.sqrt(data['rotationRateX']**2 + data['rotationRateY']**2 + data['rotationRateZ']**2)\n",
    "    data['rotation_mag'] = data['rotation_mag'] - data['rotation_mag'].mean() # detrend: \"remove gravity\"\n",
    "    \n",
    "    return data"
   ],
   "id": "c3601692303112dc"
  },
  {
   "metadata": {},
   "cell_type": "markdown",
   "source": "Remove Noise from both Acceration and Rotation",
   "id": "7b08ffa4cb565b1a"
  },
  {
   "metadata": {},
   "cell_type": "code",
   "outputs": [],
   "execution_count": null,
   "source": [
    "def remove_noise(data,sampling_rate):\n",
    "    from scipy.signal import butter, filtfilt, find_peaks\n",
    "\n",
    "    # Low pass filter\n",
    "    cutoff = 5 # Hz\n",
    "    order = 2\n",
    "    b, a = butter(order, cutoff/(sampling_rate/2), btype='lowpass')\n",
    "    data['filtered_accel_mag'] = filtfilt(b, a, data['accel_mag'])\n",
    "\n",
    "    return data"
   ],
   "id": "3ae682a95f0e0c0c"
  },
  {
   "metadata": {},
   "cell_type": "code",
   "outputs": [],
   "execution_count": null,
   "source": [
    "def remove_noise_rotation(data,sampling_rate):\n",
    "    from scipy.signal import butter, filtfilt, find_peaks\n",
    "\n",
    "    # Low pass filter\n",
    "    cutoff = 5 # Hz\n",
    "    order = 2\n",
    "    b, a = butter(order, cutoff/(sampling_rate/2), btype='lowpass')\n",
    "    data['filtered_rotation_mag'] = filtfilt(b, a, data['rotation_mag'])\n",
    "\n",
    "    return data"
   ],
   "id": "e31a5ee3c81482ab"
  },
  {
   "metadata": {},
   "cell_type": "markdown",
   "source": "Adding features per window with both acceleration and rotation",
   "id": "a41393d9e553e31a"
  },
  {
   "metadata": {},
   "cell_type": "code",
   "outputs": [],
   "execution_count": null,
   "source": [
    "#Do not modify\n",
    "def add_features(window):\n",
    "    features = {}\n",
    "    # A = acceleration\n",
    "    features['Aavg'] = window['filtered_accel_mag'].mean()\n",
    "    features['Amax'] = window['filtered_accel_mag'].quantile(1)\n",
    "    features['Amed'] = window['filtered_accel_mag'].quantile(0.5)\n",
    "    features['Amin'] = window['filtered_accel_mag'].quantile(0)\n",
    "    features['Aq25'] = window['filtered_accel_mag'].quantile(0.25)\n",
    "    features['Aq75'] = window['filtered_accel_mag'].quantile(0.75)\n",
    "    features['Astd'] = window['filtered_accel_mag'].std()\n",
    "    # R = rotation\n",
    "    features['Ravg'] = window['filtered_rotation_mag'].mean()\n",
    "    features['Rmax'] = window['filtered_rotation_mag'].quantile(1)\n",
    "    features['Rmed'] = window['filtered_rotation_mag'].quantile(0.5)\n",
    "    features['Rmin'] = window['filtered_rotation_mag'].quantile(0)\n",
    "    features['Rq25'] = window['filtered_rotation_mag'].quantile(0.25)\n",
    "    features['Rq75'] = window['filtered_rotation_mag'].quantile(0.75)\n",
    "    features['Rstd'] = window['filtered_rotation_mag'].std()\n",
    "    df = pd.DataFrame()\n",
    "    df = df._append(features,ignore_index=True)\n",
    "    return df"
   ],
   "id": "bf4e973579974fdc"
  },
  {
   "metadata": {},
   "cell_type": "code",
   "outputs": [],
   "execution_count": null,
   "source": [
    "def train_decision_tree(frames):\n",
    "    # Extract feature columns\n",
    "    X = frames[['Aavg', 'Amax', 'Amed', 'Amin', 'Aq25', 'Aq75', 'Astd', 'Ravg', 'Rmax', 'Rmed', 'Rmin', 'Rq25', 'Rq75', 'Rstd']]\n",
    "\n",
    "    # Extract target column\n",
    "    y = frames['activity']\n",
    "\n",
    "    # Split data\n",
    "    X_train, X_test, y_train, y_test = train_test_split(X, y, test_size=0.3, random_state=42)\n",
    "\n",
    "    # Create model\n",
    "    dt_model = DecisionTreeClassifier(criterion='entropy',max_depth=5).fit(X_train, y_train)\n",
    "    dt_pred = dt_model.predict(X_test)\n",
    "\n",
    "    # Evaluate on test set\n",
    "    acc = dt_model.score(X_test, y_test)\n",
    "    dt_cm = confusion_matrix(y_test, dt_pred, labels=dt_model.classes_)\n",
    "    print(classification_report(y_test, dt_pred))\n",
    "    print(\"Accuracy on test set:\", acc)\n",
    "\n",
    "    return dt_model,dt_cm,acc"
   ],
   "id": "1cf19e6f1f1c9e22"
  },
  {
   "metadata": {},
   "cell_type": "code",
   "outputs": [],
   "execution_count": null,
   "source": [
    "# Function to extract windows and features\n",
    "def extract_features(data, window_sec, sample_rate, activity):\n",
    "    features_list = []\n",
    "    window_size = f'{window_sec}S'\n",
    "    data['time'] = pd.to_datetime(data['time'])\n",
    "    resampled_data = data.resample(window_size, on='time')\n",
    "    \n",
    "    for t, window in resampled_data:\n",
    "        features = add_features(window)\n",
    "        features['activity'] = activity\n",
    "        features_list.append(features)\n",
    "    features_df = pd.concat(features_list, ignore_index=True)\n",
    "    return features_df\n"
   ],
   "id": "2cf7cc4e81ced81e"
  }
 ],
 "metadata": {
  "kernelspec": {
   "display_name": "Python 3",
   "language": "python",
   "name": "python3"
  },
  "language_info": {
   "codemirror_mode": {
    "name": "ipython",
    "version": 2
   },
   "file_extension": ".py",
   "mimetype": "text/x-python",
   "name": "python",
   "nbconvert_exporter": "python",
   "pygments_lexer": "ipython2",
   "version": "2.7.6"
  }
 },
 "nbformat": 4,
 "nbformat_minor": 5
}
